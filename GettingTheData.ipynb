{
  "nbformat": 4,
  "nbformat_minor": 0,
  "metadata": {
    "colab": {
      "name": "Untitled0.ipynb",
      "provenance": [],
      "collapsed_sections": [],
      "authorship_tag": "ABX9TyNuITMviXBMixEGALPXpNYY",
      "include_colab_link": true
    },
    "kernelspec": {
      "name": "python3",
      "display_name": "Python 3"
    }
  },
  "cells": [
    {
      "cell_type": "markdown",
      "metadata": {
        "id": "view-in-github",
        "colab_type": "text"
      },
      "source": [
        "<a href=\"https://colab.research.google.com/github/rafeekpro/Colab/blob/main/GettingTheData.ipynb\" target=\"_parent\"><img src=\"https://colab.research.google.com/assets/colab-badge.svg\" alt=\"Open In Colab\"/></a>"
      ]
    },
    {
      "cell_type": "code",
      "metadata": {
        "id": "K8MH-n6ipz8t"
      },
      "source": [
        "import scipy.io as sio\n",
        "import matplotlib.pyplot as plt\n",
        "import pandas as pd\n"
      ],
      "execution_count": null,
      "outputs": []
    },
    {
      "cell_type": "code",
      "metadata": {
        "colab": {
          "base_uri": "https://localhost:8080/"
        },
        "id": "CHyh7QFYpVEQ",
        "outputId": "ae036409-bd4d-4f47-b443-f3d9fa76a0de"
      },
      "source": [
        "!wget http://ufldl.stanford.edu/housenumbers/train_32x32.mat\n",
        "!wget http://ufldl.stanford.edu/housenumbers/test_32x32.mat"
      ],
      "execution_count": null,
      "outputs": [
        {
          "output_type": "stream",
          "text": [
            "--2020-11-27 16:34:51--  http://ufldl.stanford.edu/housenumbers/train_32x32.mat\n",
            "Resolving ufldl.stanford.edu (ufldl.stanford.edu)... 171.64.68.10\n",
            "Connecting to ufldl.stanford.edu (ufldl.stanford.edu)|171.64.68.10|:80... connected.\n",
            "HTTP request sent, awaiting response... 200 OK\n",
            "Length: 182040794 (174M) [text/plain]\n",
            "Saving to: ‘train_32x32.mat.2’\n",
            "\n",
            "train_32x32.mat.2   100%[===================>] 173.61M  20.8MB/s    in 16s     \n",
            "\n",
            "2020-11-27 16:35:07 (10.6 MB/s) - ‘train_32x32.mat.2’ saved [182040794/182040794]\n",
            "\n",
            "--2020-11-27 16:35:07--  http://ufldl.stanford.edu/housenumbers/test_32x32.mat\n",
            "Resolving ufldl.stanford.edu (ufldl.stanford.edu)... 171.64.68.10\n",
            "Connecting to ufldl.stanford.edu (ufldl.stanford.edu)|171.64.68.10|:80... connected.\n",
            "HTTP request sent, awaiting response... 200 OK\n",
            "Length: 64275384 (61M) [text/plain]\n",
            "Saving to: ‘test_32x32.mat.2’\n",
            "\n",
            "test_32x32.mat.2    100%[===================>]  61.30M  11.6MB/s    in 9.9s    \n",
            "\n",
            "2020-11-27 16:35:17 (6.22 MB/s) - ‘test_32x32.mat.2’ saved [64275384/64275384]\n",
            "\n"
          ],
          "name": "stdout"
        }
      ]
    },
    {
      "cell_type": "code",
      "metadata": {
        "id": "qVvHXAFtpeV4"
      },
      "source": [
        "train = sio.loadmat('train_32x32.mat')\n",
        "test = sio.loadmat('test_32x32.mat')"
      ],
      "execution_count": null,
      "outputs": []
    },
    {
      "cell_type": "code",
      "metadata": {
        "id": "2H86kYpInxEj"
      },
      "source": [
        "# access to the dict\n",
        "X_train = train['X']\n",
        "y_train = train['y']\n",
        "X_test = test['X']\n",
        "y_test = test['y']"
      ],
      "execution_count": null,
      "outputs": []
    },
    {
      "cell_type": "code",
      "metadata": {
        "colab": {
          "base_uri": "https://localhost:8080/",
          "height": 266
        },
        "id": "_dXOy9KKr_Gh",
        "outputId": "6c5435dc-6179-479a-8ea9-685afc5e4b4d"
      },
      "source": [
        "plt.imshow(X_train[:,:,:,99]);"
      ],
      "execution_count": null,
      "outputs": [
        {
          "output_type": "display_data",
          "data": {
            "image/png": "[encoded data removed]",
            "text/plain": [
              "<Figure size 432x288 with 1 Axes>"
            ]
          },
          "metadata": {
            "tags": [],
            "needs_background": "light"
          }
        }
      ]
    },
    {
      "cell_type": "code",
      "metadata": {
        "colab": {
          "base_uri": "https://localhost:8080/"
        },
        "id": "DWN0EMl5hmb3",
        "outputId": "5ca18f81-3999-4fed-992b-383d536116e2"
      },
      "source": [
        "print(\"Digit Label\", y_train[99][0])"
      ],
      "execution_count": null,
      "outputs": [
        {
          "output_type": "stream",
          "text": [
            "Digit Label 7\n"
          ],
          "name": "stdout"
        }
      ]
    },
    {
      "cell_type": "code",
      "metadata": {
        "colab": {
          "base_uri": "https://localhost:8080/",
          "height": 266
        },
        "id": "feNfXxAoqKE9",
        "outputId": "b96b9b30-5e77-4d8e-fca1-3552542b681d"
      },
      "source": [
        "plt.imshow(X_test[:,:,:,100]);"
      ],
      "execution_count": null,
      "outputs": [
        {
          "output_type": "display_data",
          "data": {
            "image/png": "[encoded data removed]",
            "text/plain": [
              "<Figure size 432x288 with 1 Axes>"
            ]
          },
          "metadata": {
            "tags": [],
            "needs_background": "light"
          }
        }
      ]
    },
    {
      "cell_type": "code",
      "metadata": {
        "colab": {
          "base_uri": "https://localhost:8080/"
        },
        "id": "ZVLiwExQXb_V",
        "outputId": "bb76890f-a93b-4d1e-f9dd-917681c453a4"
      },
      "source": [
        "print(\"Digit Label\", y_test[100][0])"
      ],
      "execution_count": null,
      "outputs": [
        {
          "output_type": "stream",
          "text": [
            "Digit Label 4\n"
          ],
          "name": "stdout"
        }
      ]
    },
    {
      "cell_type": "code",
      "metadata": {
        "colab": {
          "base_uri": "https://localhost:8080/",
          "height": 266
        },
        "id": "GRKQpnaojXfX",
        "outputId": "0fa39c01-9504-4e82-e1da-4238051dd4ea"
      },
      "source": [
        "plt.imshow(X_train[:,:,:,52]);"
      ],
      "execution_count": null,
      "outputs": [
        {
          "output_type": "display_data",
          "data": {
            "image/png": "[encoded data removed]",
            "text/plain": [
              "<Figure size 432x288 with 1 Axes>"
            ]
          },
          "metadata": {
            "tags": [],
            "needs_background": "light"
          }
        }
      ]
    },
    {
      "cell_type": "code",
      "metadata": {
        "colab": {
          "base_uri": "https://localhost:8080/"
        },
        "id": "4mJv9CSnjb3W",
        "outputId": "0e8f99d6-718b-4a11-d630-e0e19353797e"
      },
      "source": [
        "print(\"Digit Label\", y_train[52][0])"
      ],
      "execution_count": null,
      "outputs": [
        {
          "output_type": "stream",
          "text": [
            "Digit Label 10\n"
          ],
          "name": "stdout"
        }
      ]
    },
    {
      "cell_type": "code",
      "metadata": {
        "id": "LpC9dWqWgmAh"
      },
      "source": [
        "for index, y in enumerate(y_train):\n",
        "  if y_train[index] == 10:\n",
        "    y_train[index] = 0"
      ],
      "execution_count": null,
      "outputs": []
    },
    {
      "cell_type": "code",
      "metadata": {
        "colab": {
          "base_uri": "https://localhost:8080/"
        },
        "id": "Ysc8Aafbjlcf",
        "outputId": "d30470b1-dd6c-40bb-a387-c1b57d23eb4c"
      },
      "source": [
        "print(\"Digit Label\", y_train[52][0])"
      ],
      "execution_count": 56,
      "outputs": [
        {
          "output_type": "stream",
          "text": [
            "Digit Label 0\n"
          ],
          "name": "stdout"
        }
      ]
    },
    {
      "cell_type": "code",
      "metadata": {
        "id": "Sg5pB0KuiAM4"
      },
      "source": [
        ""
      ],
      "execution_count": null,
      "outputs": []
    }
  ]
}